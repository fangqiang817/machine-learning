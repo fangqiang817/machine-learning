{
 "cells": [
  {
   "cell_type": "code",
   "execution_count": 1,
   "metadata": {},
   "outputs": [],
   "source": [
    "import numpy as np"
   ]
  },
  {
   "cell_type": "code",
   "execution_count": 15,
   "metadata": {},
   "outputs": [],
   "source": [
    "#定义sigmoid函数\n",
    "def sig(x): \n",
    "    #输入一个矩阵x，输出sigmoid值\n",
    "    return 1.0/1+np.exp(-x)\n",
    "\n",
    "#计算错误率\n",
    "def error_rate(h,label):\n",
    "    #h为预测值，labe为真实值，输出错误率\n",
    "    m = np.shape(h)[0]\n",
    "    sum_err = 0.0\n",
    "    for i in range(m):\n",
    "        if h[i, 0] > 0 and (1 - h[i, 0]) > 0:\n",
    "            sum_err -= (label[i,0] * np.log(h[i,0]) + \\\n",
    "                        (1-label[i,0]) * np.log(1-h[i,0]))\n",
    "        else:\n",
    "            sum_err -= 0\n",
    "    return sum_err / m"
   ]
  },
  {
   "cell_type": "code",
   "execution_count": 20,
   "metadata": {},
   "outputs": [],
   "source": [
    "def lr_train_bgd(feature,label,maxCycle,alpha):   #逻辑回归模型的训练\n",
    "    #feature是输入的特征矩阵，label对应的标签，maxCycle为最大的迭代次数，alpha为学习率\n",
    "    #输出为训练好的W的权值矩阵\n",
    "    n = np.shape(feature)[1] #特征的个数\n",
    "    w = np.mat(np.ones((n,1))) #初始化权重\n",
    "    i = 0 \n",
    "    while i <= maxCycle:\n",
    "        i += 1\n",
    "        h = sig(feature*w)#计算sigmoid值\n",
    "        err = label - h\n",
    "        if i%100 == 0:\n",
    "            print('\\t----iter='+str(i)+',train error_rate='+str(error_rate(h,label)))\n",
    "        w = w + alpha*feature.T*err #根据梯度下降法求导公式而来\n",
    "    return w"
   ]
  },
  {
   "cell_type": "code",
   "execution_count": 17,
   "metadata": {},
   "outputs": [],
   "source": [
    "def load_data(file_name):\n",
    "    '''导入训练数据\n",
    "    input:  file_name(string)训练数据的位置\n",
    "    output: feature_data(mat)特征\n",
    "            label_data(mat)标签\n",
    "    '''\n",
    "    f = open(file_name)  # 打开文件\n",
    "    feature_data = []\n",
    "    label_data = []\n",
    "    for line in f.readlines():\n",
    "        feature_tmp = []\n",
    "        lable_tmp = []\n",
    "        lines = line.strip().split(\"\\t\")\n",
    "        feature_tmp.append(1)  # 偏置项\n",
    "        for i in range(len(lines) - 1):\n",
    "            feature_tmp.append(float(lines[i]))\n",
    "        lable_tmp.append(float(lines[-1]))\n",
    "        \n",
    "        feature_data.append(feature_tmp)\n",
    "        label_data.append(lable_tmp)\n",
    "    f.close()  # 关闭文件\n",
    "    return np.mat(feature_data), np.mat(label_data)"
   ]
  },
  {
   "cell_type": "code",
   "execution_count": 18,
   "metadata": {},
   "outputs": [],
   "source": [
    "def save_model(file_name, w):\n",
    "    '''保存最终的模型\n",
    "    input:  file_name(string):模型保存的文件名\n",
    "            w(mat):LR模型的权重\n",
    "    '''\n",
    "    m = np.shape(w)[0]\n",
    "    f_w = open(file_name, \"w\")\n",
    "    w_array = []\n",
    "    for i in range(m):\n",
    "        w_array.append(str(w[i, 0]))\n",
    "    f_w.write(\"\\t\".join(w_array))\n",
    "    f_w.close()   "
   ]
  },
  {
   "cell_type": "code",
   "execution_count": 22,
   "metadata": {},
   "outputs": [
    {
     "name": "stdout",
     "output_type": "stream",
     "text": [
      "---------- 1.load data ------------\n",
      "---------- 2.training ------------\n",
      "\t----iter=100,train error_rate=0.0\n",
      "\t----iter=200,train error_rate=0.0\n",
      "\t----iter=300,train error_rate=0.0\n",
      "\t----iter=400,train error_rate=0.0\n",
      "\t----iter=500,train error_rate=0.0\n",
      "\t----iter=600,train error_rate=0.0\n",
      "\t----iter=700,train error_rate=0.0\n",
      "\t----iter=800,train error_rate=0.0\n",
      "\t----iter=900,train error_rate=0.0\n",
      "\t----iter=1000,train error_rate=0.0\n",
      "---------- 3.save model ------------\n"
     ]
    },
    {
     "name": "stderr",
     "output_type": "stream",
     "text": [
      "C:\\ProgramData\\Anaconda3\\lib\\site-packages\\ipykernel_launcher.py:4: RuntimeWarning: overflow encountered in exp\n",
      "  after removing the cwd from sys.path.\n"
     ]
    }
   ],
   "source": [
    "print (\"---------- 1.load data ------------\")\n",
    "feature, label = load_data(\"python机器学习算法/Chapter_1 Logistic Regression/data.txt\")\n",
    "# 2、训练LR模型\n",
    "print (\"---------- 2.training ------------\")\n",
    "w = lr_train_bgd(feature, label, 1000, 0.01)\n",
    "# 3、保存最终的模型\n",
    "print (\"---------- 3.save model ------------\")\n",
    "save_model(\"weights\", w)"
   ]
  },
  {
   "cell_type": "code",
   "execution_count": null,
   "metadata": {},
   "outputs": [],
   "source": []
  }
 ],
 "metadata": {
  "kernelspec": {
   "display_name": "Python 3",
   "language": "python",
   "name": "python3"
  },
  "language_info": {
   "codemirror_mode": {
    "name": "ipython",
    "version": 3
   },
   "file_extension": ".py",
   "mimetype": "text/x-python",
   "name": "python",
   "nbconvert_exporter": "python",
   "pygments_lexer": "ipython3",
   "version": "3.6.4"
  },
  "toc": {
   "base_numbering": 1,
   "nav_menu": {},
   "number_sections": true,
   "sideBar": true,
   "skip_h1_title": false,
   "title_cell": "Table of Contents",
   "title_sidebar": "Contents",
   "toc_cell": false,
   "toc_position": {},
   "toc_section_display": true,
   "toc_window_display": false
  }
 },
 "nbformat": 4,
 "nbformat_minor": 2
}
