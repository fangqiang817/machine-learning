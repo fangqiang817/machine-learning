{
 "cells": [
  {
   "cell_type": "markdown",
   "metadata": {},
   "source": [
    "参考李航的统计学习方法-第10章，173页\n",
    "算法10.1"
   ]
  },
  {
   "cell_type": "code",
   "execution_count": 1,
   "metadata": {},
   "outputs": [],
   "source": [
    "import numpy as np\n",
    "import random"
   ]
  },
  {
   "cell_type": "code",
   "execution_count": 2,
   "metadata": {},
   "outputs": [],
   "source": [
    "#初始概率\n",
    "pi = np.array([0.25,.25,.25,.25])"
   ]
  },
  {
   "cell_type": "code",
   "execution_count": 3,
   "metadata": {},
   "outputs": [],
   "source": [
    "#隐藏状态的转移概率矩阵\n",
    "A = np.matrix([[0,1,0,0],\n",
    "              [0.4,0,0.6,0],\n",
    "              [0,0.4,0,0.6],\n",
    "              [0,0,0.5,0.5]])"
   ]
  },
  {
   "cell_type": "code",
   "execution_count": 4,
   "metadata": {},
   "outputs": [],
   "source": [
    "#观测生成矩阵\n",
    "B = np.matrix([[0.5,0.5],\n",
    "              [0.3,0.7],\n",
    "              [0.6,0.4],\n",
    "              [0.8,0.2]])"
   ]
  },
  {
   "cell_type": "code",
   "execution_count": 5,
   "metadata": {},
   "outputs": [],
   "source": [
    "#T为需要的观测长度\n",
    "def hmm(A,B,pi,T):\n",
    "    index = np.random.choice([0,1, 2, 3], p = pi.ravel())\n",
    "    t = 0\n",
    "    result = []\n",
    "    while t < T:\n",
    "        temp = np.random.choice(['红','白'],p = np.array(B[index])[0].ravel())\n",
    "        result.append(temp)\n",
    "        index = np.random.choice([0,1, 2, 3],p = np.array(A[index])[0].ravel())\n",
    "        t += 1\n",
    "    return result\n",
    "    "
   ]
  },
  {
   "cell_type": "code",
   "execution_count": 6,
   "metadata": {},
   "outputs": [
    {
     "data": {
      "text/plain": [
       "['红', '白', '白', '红', '红']"
      ]
     },
     "execution_count": 6,
     "metadata": {},
     "output_type": "execute_result"
    }
   ],
   "source": [
    "hmm(A,B,pi,5)"
   ]
  },
  {
   "cell_type": "code",
   "execution_count": null,
   "metadata": {},
   "outputs": [],
   "source": []
  }
 ],
 "metadata": {
  "kernelspec": {
   "display_name": "Python 3",
   "language": "python",
   "name": "python3"
  },
  "language_info": {
   "codemirror_mode": {
    "name": "ipython",
    "version": 3
   },
   "file_extension": ".py",
   "mimetype": "text/x-python",
   "name": "python",
   "nbconvert_exporter": "python",
   "pygments_lexer": "ipython3",
   "version": "3.6.4"
  }
 },
 "nbformat": 4,
 "nbformat_minor": 2
}
